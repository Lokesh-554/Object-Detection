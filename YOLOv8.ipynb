{
 "cells": [
  {
   "cell_type": "code",
   "execution_count": 1,
   "metadata": {},
   "outputs": [],
   "source": [
    "from ultralytics import YOLO"
   ]
  },
  {
   "cell_type": "code",
   "execution_count": 2,
   "metadata": {},
   "outputs": [],
   "source": [
    "model = YOLO(\"yolov8m.pt\")"
   ]
  },
  {
   "cell_type": "code",
   "execution_count": 3,
   "metadata": {},
   "outputs": [
    {
     "name": "stdout",
     "output_type": "stream",
     "text": [
      "\n",
      "image 1/1 f:\\Deep_Learning\\YOLO\\cat_dog.png: 448x640 1 cat, 1 dog, 955.0ms\n",
      "Speed: 16.3ms preprocess, 955.0ms inference, 25.6ms postprocess per image at shape (1, 3, 448, 640)\n"
     ]
    }
   ],
   "source": [
    "results = model.predict(\"cat_dog.png\")"
   ]
  },
  {
   "cell_type": "code",
   "execution_count": 4,
   "metadata": {},
   "outputs": [
    {
     "data": {
      "text/plain": [
       "(516, 760)"
      ]
     },
     "execution_count": 4,
     "metadata": {},
     "output_type": "execute_result"
    }
   ],
   "source": [
    "result=results[0]\n",
    "result.orig_shape"
   ]
  },
  {
   "cell_type": "code",
   "execution_count": 5,
   "metadata": {},
   "outputs": [
    {
     "data": {
      "text/plain": [
       "ultralytics.engine.results.Results object with attributes:\n",
       "\n",
       "boxes: ultralytics.engine.results.Boxes object\n",
       "keypoints: None\n",
       "masks: None\n",
       "names: {0: 'person', 1: 'bicycle', 2: 'car', 3: 'motorcycle', 4: 'airplane', 5: 'bus', 6: 'train', 7: 'truck', 8: 'boat', 9: 'traffic light', 10: 'fire hydrant', 11: 'stop sign', 12: 'parking meter', 13: 'bench', 14: 'bird', 15: 'cat', 16: 'dog', 17: 'horse', 18: 'sheep', 19: 'cow', 20: 'elephant', 21: 'bear', 22: 'zebra', 23: 'giraffe', 24: 'backpack', 25: 'umbrella', 26: 'handbag', 27: 'tie', 28: 'suitcase', 29: 'frisbee', 30: 'skis', 31: 'snowboard', 32: 'sports ball', 33: 'kite', 34: 'baseball bat', 35: 'baseball glove', 36: 'skateboard', 37: 'surfboard', 38: 'tennis racket', 39: 'bottle', 40: 'wine glass', 41: 'cup', 42: 'fork', 43: 'knife', 44: 'spoon', 45: 'bowl', 46: 'banana', 47: 'apple', 48: 'sandwich', 49: 'orange', 50: 'broccoli', 51: 'carrot', 52: 'hot dog', 53: 'pizza', 54: 'donut', 55: 'cake', 56: 'chair', 57: 'couch', 58: 'potted plant', 59: 'bed', 60: 'dining table', 61: 'toilet', 62: 'tv', 63: 'laptop', 64: 'mouse', 65: 'remote', 66: 'keyboard', 67: 'cell phone', 68: 'microwave', 69: 'oven', 70: 'toaster', 71: 'sink', 72: 'refrigerator', 73: 'book', 74: 'clock', 75: 'vase', 76: 'scissors', 77: 'teddy bear', 78: 'hair drier', 79: 'toothbrush'}\n",
       "obb: None\n",
       "orig_img: array([[[255, 255, 255],\n",
       "        [255, 255, 255],\n",
       "        [255, 255, 255],\n",
       "        ...,\n",
       "        [255, 255, 255],\n",
       "        [255, 255, 255],\n",
       "        [255, 255, 255]],\n",
       "\n",
       "       [[ 22,  67,  70],\n",
       "        [ 21,  68,  71],\n",
       "        [ 21,  69,  73],\n",
       "        ...,\n",
       "        [ 32,  64,  77],\n",
       "        [ 34,  63,  77],\n",
       "        [ 36,  61,  78]],\n",
       "\n",
       "       [[ 22,  67,  70],\n",
       "        [ 21,  68,  71],\n",
       "        [ 21,  69,  73],\n",
       "        ...,\n",
       "        [ 32,  64,  77],\n",
       "        [ 34,  63,  77],\n",
       "        [ 36,  61,  78]],\n",
       "\n",
       "       ...,\n",
       "\n",
       "       [[ 16,  74,  21],\n",
       "        [ 16,  74,  21],\n",
       "        [ 16,  75,  21],\n",
       "        ...,\n",
       "        [ 15,  60,  10],\n",
       "        [ 17,  60,  11],\n",
       "        [ 20,  60,  13]],\n",
       "\n",
       "       [[ 17,  73,  20],\n",
       "        [ 17,  73,  20],\n",
       "        [ 17,  74,  20],\n",
       "        ...,\n",
       "        [ 15,  60,  10],\n",
       "        [ 17,  59,  11],\n",
       "        [ 19,  59,  13]],\n",
       "\n",
       "       [[ 17,  72,  20],\n",
       "        [ 17,  72,  20],\n",
       "        [ 17,  72,  20],\n",
       "        ...,\n",
       "        [ 15,  60,  11],\n",
       "        [ 16,  59,  12],\n",
       "        [ 19,  58,  13]]], dtype=uint8)\n",
       "orig_shape: (516, 760)\n",
       "path: 'f:\\\\Deep_Learning\\\\YOLO\\\\cat_dog.png'\n",
       "probs: None\n",
       "save_dir: None\n",
       "speed: {'preprocess': None, 'inference': None, 'postprocess': None}"
      ]
     },
     "execution_count": 5,
     "metadata": {},
     "output_type": "execute_result"
    }
   ],
   "source": [
    "result[0]"
   ]
  },
  {
   "cell_type": "code",
   "execution_count": 6,
   "metadata": {},
   "outputs": [
    {
     "data": {
      "text/plain": [
       "2"
      ]
     },
     "execution_count": 6,
     "metadata": {},
     "output_type": "execute_result"
    }
   ],
   "source": [
    "len(result.boxes)"
   ]
  },
  {
   "cell_type": "code",
   "execution_count": 7,
   "metadata": {},
   "outputs": [
    {
     "data": {
      "text/plain": [
       "ultralytics.engine.results.Boxes object with attributes:\n",
       "\n",
       "cls: tensor([16.])\n",
       "conf: tensor([0.9466])\n",
       "data: tensor([[326.2050, 117.9209, 575.1458, 393.1667,   0.9466,  16.0000]])\n",
       "id: None\n",
       "is_track: False\n",
       "orig_shape: (516, 760)\n",
       "shape: torch.Size([1, 6])\n",
       "xywh: tensor([[450.6754, 255.5438, 248.9409, 275.2458]])\n",
       "xywhn: tensor([[0.5930, 0.4952, 0.3276, 0.5334]])\n",
       "xyxy: tensor([[326.2050, 117.9209, 575.1458, 393.1667]])\n",
       "xyxyn: tensor([[0.4292, 0.2285, 0.7568, 0.7620]])"
      ]
     },
     "execution_count": 7,
     "metadata": {},
     "output_type": "execute_result"
    }
   ],
   "source": [
    "box = result.boxes[0]\n",
    "box"
   ]
  },
  {
   "cell_type": "code",
   "execution_count": 8,
   "metadata": {},
   "outputs": [
    {
     "name": "stdout",
     "output_type": "stream",
     "text": [
      "Object type: tensor([16.])\n",
      "Coordinates: tensor([[326.2050, 117.9209, 575.1458, 393.1667]])\n",
      "Probability: tensor([0.9466])\n"
     ]
    }
   ],
   "source": [
    "print(\"Object type:\", box.cls)\n",
    "print(\"Coordinates:\", box.xyxy)\n",
    "print(\"Probability:\", box.conf)"
   ]
  },
  {
   "cell_type": "code",
   "execution_count": 9,
   "metadata": {},
   "outputs": [
    {
     "name": "stdout",
     "output_type": "stream",
     "text": [
      "Object type: tensor(16.)\n",
      "Coordinates: tensor([326.2050, 117.9209, 575.1458, 393.1667])\n",
      "Probability: tensor(0.9466)\n"
     ]
    }
   ],
   "source": [
    "print(\"Object type:\",box.cls[0])\n",
    "print(\"Coordinates:\",box.xyxy[0])\n",
    "print(\"Probability:\",box.conf[0])"
   ]
  },
  {
   "cell_type": "code",
   "execution_count": 10,
   "metadata": {},
   "outputs": [
    {
     "name": "stdout",
     "output_type": "stream",
     "text": [
      "Object type: 16.0\n",
      "Coordinates: [326.2049560546875, 117.92088317871094, 575.1458129882812, 393.16668701171875]\n",
      "Probability: 0.9466063976287842\n"
     ]
    }
   ],
   "source": [
    "# xyxy – the coordinates of the box as an array [x1,y1,x2,y2]\n",
    "# cls – the ID of object type\n",
    "# conf – the confidence level of the model about this object. If it's very low, like < 0.5, then you can just ignore the box.\n",
    "cords = box.xyxy[0].tolist()\n",
    "class_id = box.cls[0].item()\n",
    "conf = box.conf[0].item()\n",
    "print(\"Object type:\", class_id)\n",
    "print(\"Coordinates:\", cords)\n",
    "print(\"Probability:\", conf)"
   ]
  },
  {
   "cell_type": "code",
   "execution_count": 11,
   "metadata": {},
   "outputs": [
    {
     "data": {
      "text/plain": [
       "{0: 'person',\n",
       " 1: 'bicycle',\n",
       " 2: 'car',\n",
       " 3: 'motorcycle',\n",
       " 4: 'airplane',\n",
       " 5: 'bus',\n",
       " 6: 'train',\n",
       " 7: 'truck',\n",
       " 8: 'boat',\n",
       " 9: 'traffic light',\n",
       " 10: 'fire hydrant',\n",
       " 11: 'stop sign',\n",
       " 12: 'parking meter',\n",
       " 13: 'bench',\n",
       " 14: 'bird',\n",
       " 15: 'cat',\n",
       " 16: 'dog',\n",
       " 17: 'horse',\n",
       " 18: 'sheep',\n",
       " 19: 'cow',\n",
       " 20: 'elephant',\n",
       " 21: 'bear',\n",
       " 22: 'zebra',\n",
       " 23: 'giraffe',\n",
       " 24: 'backpack',\n",
       " 25: 'umbrella',\n",
       " 26: 'handbag',\n",
       " 27: 'tie',\n",
       " 28: 'suitcase',\n",
       " 29: 'frisbee',\n",
       " 30: 'skis',\n",
       " 31: 'snowboard',\n",
       " 32: 'sports ball',\n",
       " 33: 'kite',\n",
       " 34: 'baseball bat',\n",
       " 35: 'baseball glove',\n",
       " 36: 'skateboard',\n",
       " 37: 'surfboard',\n",
       " 38: 'tennis racket',\n",
       " 39: 'bottle',\n",
       " 40: 'wine glass',\n",
       " 41: 'cup',\n",
       " 42: 'fork',\n",
       " 43: 'knife',\n",
       " 44: 'spoon',\n",
       " 45: 'bowl',\n",
       " 46: 'banana',\n",
       " 47: 'apple',\n",
       " 48: 'sandwich',\n",
       " 49: 'orange',\n",
       " 50: 'broccoli',\n",
       " 51: 'carrot',\n",
       " 52: 'hot dog',\n",
       " 53: 'pizza',\n",
       " 54: 'donut',\n",
       " 55: 'cake',\n",
       " 56: 'chair',\n",
       " 57: 'couch',\n",
       " 58: 'potted plant',\n",
       " 59: 'bed',\n",
       " 60: 'dining table',\n",
       " 61: 'toilet',\n",
       " 62: 'tv',\n",
       " 63: 'laptop',\n",
       " 64: 'mouse',\n",
       " 65: 'remote',\n",
       " 66: 'keyboard',\n",
       " 67: 'cell phone',\n",
       " 68: 'microwave',\n",
       " 69: 'oven',\n",
       " 70: 'toaster',\n",
       " 71: 'sink',\n",
       " 72: 'refrigerator',\n",
       " 73: 'book',\n",
       " 74: 'clock',\n",
       " 75: 'vase',\n",
       " 76: 'scissors',\n",
       " 77: 'teddy bear',\n",
       " 78: 'hair drier',\n",
       " 79: 'toothbrush'}"
      ]
     },
     "execution_count": 11,
     "metadata": {},
     "output_type": "execute_result"
    }
   ],
   "source": [
    "result.names"
   ]
  },
  {
   "cell_type": "code",
   "execution_count": 12,
   "metadata": {},
   "outputs": [
    {
     "name": "stdout",
     "output_type": "stream",
     "text": [
      "Object type: dog\n",
      "Coordinates: [326, 118, 575, 393]\n",
      "Probability: 0.95\n"
     ]
    }
   ],
   "source": [
    "cords = [round(x) for x in cords]\n",
    "class_id = result.names[box.cls[0].item()]\n",
    "conf = round(conf, 2)\n",
    "print(\"Object type:\", class_id)\n",
    "print(\"Coordinates:\", cords)\n",
    "print(\"Probability:\", conf)"
   ]
  },
  {
   "cell_type": "code",
   "execution_count": 13,
   "metadata": {},
   "outputs": [
    {
     "name": "stdout",
     "output_type": "stream",
     "text": [
      "Object type: dog\n",
      "Coordinates: [326, 118, 575, 393]\n",
      "Probability: 0.95\n",
      "---\n",
      "Object type: cat\n",
      "Coordinates: [174, 212, 318, 393]\n",
      "Probability: 0.91\n",
      "---\n"
     ]
    }
   ],
   "source": [
    "for box in result.boxes:\n",
    "  class_id = result.names[box.cls[0].item()]\n",
    "  cords = box.xyxy[0].tolist()\n",
    "  cords = [round(x) for x in cords]\n",
    "  conf = round(box.conf[0].item(), 2)\n",
    "  print(\"Object type:\", class_id)\n",
    "  print(\"Coordinates:\", cords)\n",
    "  print(\"Probability:\", conf)\n",
    "  print(\"---\")"
   ]
  },
  {
   "cell_type": "code",
   "execution_count": 14,
   "metadata": {},
   "outputs": [],
   "source": [
    "import cv2\n",
    "# Load the image\n",
    "image = cv2.imread('cat_dog.png')\n",
    "\n",
    "# Define the bounding box coordinates and probabilities\n",
    "objects = [\n",
    "    {\"type\": \"dog\", \"coordinates\": [326, 118, 575, 393], \"probability\": 0.95},\n",
    "    {\"type\": \"cat\", \"coordinates\": [174, 212, 318, 393], \"probability\": 0.91}\n",
    "]\n",
    "\n",
    "\n",
    "# Draw bounding boxes and labels on the image\n",
    "for obj in objects:\n",
    "    x1, y1, x2, y2 = obj[\"coordinates\"]\n",
    "    cv2.rectangle(image, (x1, y1), (x2, y2), (0, 255, 0), 2)\n",
    "    cv2.putText(image, f'{obj[\"type\"]} ({obj[\"probability\"]:.2f})', (x1, y1 - 10), cv2.FONT_HERSHEY_SIMPLEX, 0.5, (0, 255, 0), 2)\n",
    "\n",
    "# Show the image with bounding boxes and labels\n",
    "cv2.imshow('Image with Objects', image)\n",
    "cv2.waitKey(0)\n",
    "cv2.destroyAllWindows()\n",
    "\n"
   ]
  },
  {
   "cell_type": "code",
   "execution_count": 15,
   "metadata": {},
   "outputs": [],
   "source": [
    "# import cv2\n",
    "\n",
    "# # Load the image\n",
    "# image = cv2.imread(\"cricket.png\")\n",
    "\n",
    "# # Define the coordinates and types of objects\n",
    "# objects = [\n",
    "#     {\"type\": \"person\", \"coordinates\": [46, 20, 174, 198], \"probability\": 0.94},\n",
    "#     {\"type\": \"person\", \"coordinates\": [177, 28, 282, 202], \"probability\": 0.94},\n",
    "#     {\"type\": \"baseball bat\", \"coordinates\": [240, 91, 302, 136], \"probability\": 0.65},\n",
    "#     {\"type\": \"snowboard\", \"coordinates\": [240, 91, 302, 136], \"probability\": 0.4},\n",
    "#     # Add more objects here...\n",
    "# ]\n",
    "\n",
    "# # Draw bounding boxes on the image\n",
    "# for obj in objects:\n",
    "#     # Extract object properties\n",
    "#     obj_type = obj[\"type\"]\n",
    "#     x1, y1, x2, y2 = obj[\"coordinates\"]\n",
    "#     probability = obj[\"probability\"]\n",
    "    \n",
    "#     # Draw bounding box\n",
    "#     cv2.rectangle(image, (x1, y1), (x2, y2), (0, 255, 0), 2)\n",
    "    \n",
    "#     # Put label with probability\n",
    "#     label = f\"{obj_type}: {probability:.2f}\"\n",
    "#     cv2.putText(image, label, (x1, y1 - 10), cv2.FONT_HERSHEY_SIMPLEX, 0.5, (0, 255, 0), 2)\n",
    "\n",
    "# # Display the image\n",
    "# cv2.imshow(\"Object Detection\", image)\n",
    "# cv2.waitKey(0)\n",
    "# cv2.destroyAllWindows()\n"
   ]
  },
  {
   "cell_type": "code",
   "execution_count": 16,
   "metadata": {},
   "outputs": [],
   "source": [
    "# from fastapi import FastAPI\n"
   ]
  }
 ],
 "metadata": {
  "kernelspec": {
   "display_name": "pythonProject1",
   "language": "python",
   "name": "python3"
  },
  "language_info": {
   "codemirror_mode": {
    "name": "ipython",
    "version": 3
   },
   "file_extension": ".py",
   "mimetype": "text/x-python",
   "name": "python",
   "nbconvert_exporter": "python",
   "pygments_lexer": "ipython3",
   "version": "3.9.18"
  }
 },
 "nbformat": 4,
 "nbformat_minor": 2
}
